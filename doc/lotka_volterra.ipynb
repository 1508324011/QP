{
 "cells": [
  {
   "cell_type": "markdown",
   "metadata": {},
   "source": [
    "# Lotka-Volterra 模型\n",
    "\n",
    "Lotka-Volterra 模型是描述捕食者与猎物之间相互作用的基本模型。该模型基于线性的人均增长速率。在这个模型中，猎物的增长速率正比于猎物的数量，而捕食者的增长速率正比于捕食者和猎物的数量的乘积。这个模型的方程如下：\n",
    "\n",
    "$$\n",
    "\\begin{cases}\n",
    "  \\dfrac{dx}{dt} = \\alpha x - \\beta x y ,\\\\\n",
    "  \\\\\n",
    "  \\dfrac{dy}{dt} = \\delta x y - \\gamma y .\n",
    "\\end{cases}\n",
    "$$\n",
    "\n",
    "在这个方程组中，$x$ 是猎物的数量，$y$ 是捕食者的数量，$\\alpha$ 是猎物的出生率，$\\beta$ 是猎物被捕食者捕食的速率，$\\delta$ 是捕食者的出生率，$\\gamma$ 是捕食者的死亡率。\n",
    "\n",
    "## 任务目标\n",
    "\n",
    "设定一些合理的参数值以及初始猎物 $x$ 和捕食者 $y$ 的数量，然后使用 `MATLAB` (或者可行的其他语言) 来计算 Lotka-Volterra 模型的结果。接着通过调整参数来检查系统是否出现振荡现象。"
   ]
  }
 ],
 "metadata": {
  "language_info": {
   "name": "python"
  }
 },
 "nbformat": 4,
 "nbformat_minor": 2
}
